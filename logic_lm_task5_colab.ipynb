{
  "nbformat": 4,
  "nbformat_minor": 0,
  "metadata": {
    "colab": {
      "provenance": []
    },
    "kernelspec": {
      "name": "python3",
      "display_name": "Python 3"
    },
    "language_info": {
      "name": "python"
    }
  },
  "cells": [
    {
      "cell_type": "code",
      "source": [
        "# Simulate a symbolic KB based on CIFAR-10 labels\n",
        "# In practice, you would extract these from your dataset\n",
        "\n",
        "cifar_labels = [\n",
        "    \"airplane\", \"automobile\", \"bird\", \"cat\", \"deer\",\n",
        "    \"dog\", \"frog\", \"horse\", \"ship\", \"truck\"\n",
        "]\n",
        "\n",
        "# Represent each image label as a fact: Object(label)\n",
        "kb_facts = [f\"Object({label})\" for label in cifar_labels]\n",
        "\n",
        "# Add rules for reasoning\n",
        "kb_rules = [\n",
        "    \"Animal(X) :- Object(X), X in [cat, dog, bird, deer, frog, horse]\",\n",
        "    \"Vehicle(X) :- Object(X), X in [airplane, automobile, ship, truck]\"\n",
        "]\n",
        "\n",
        "# Combine facts and rules\n",
        "kb = kb_facts + kb_rules\n"
      ],
      "metadata": {
        "id": "rL_77nt-hmNt"
      },
      "execution_count": 5,
      "outputs": []
    },
    {
      "cell_type": "code",
      "source": [
        "class BackwardChainer:\n",
        "    def __init__(self, kb):\n",
        "        self.facts = [fact for fact in kb if \":-\" not in fact]\n",
        "        self.rules = [rule for rule in kb if \":-\" in rule]\n",
        "\n",
        "    def solve(self, query):\n",
        "        # Parse query predicate and argument\n",
        "        pred, arg = query.split(\"(\")\n",
        "        arg = arg.rstrip(\")\")\n",
        "\n",
        "        # Direct fact check\n",
        "        if f\"{pred}({arg})\" in self.facts:\n",
        "            return True\n",
        "\n",
        "        # Rule processing\n",
        "        for rule in self.rules:\n",
        "            head, body = rule.split(\":-\")\n",
        "            head_pred, head_arg = head.strip().split(\"(\")\n",
        "            head_arg = head_arg.rstrip(\")\")\n",
        "\n",
        "            if head_pred == pred:\n",
        "                # Split body into first predicate and remaining conditions\n",
        "                body_parts = body.split(\",\", 1)  # Split on first comma only\n",
        "                body_pred = body_parts[0].strip()\n",
        "\n",
        "                # Parse body predicate and argument\n",
        "                body_pred_name, body_pred_arg = body_pred.split(\"(\")\n",
        "                body_pred_arg = body_pred_arg.rstrip(\")\")\n",
        "\n",
        "                # Check if body predicate matches a fact\n",
        "                if f\"{body_pred_name}({arg})\" not in self.facts:\n",
        "                    continue\n",
        "\n",
        "                # Parse allowed list from remaining conditions\n",
        "                if len(body_parts) > 1:\n",
        "                    allowed_str = body_parts[1].split(\"[\")[1].split(\"]\")[0]\n",
        "                    allowed = [x.strip() for x in allowed_str.split(\",\")]\n",
        "\n",
        "                    if arg in allowed:\n",
        "                        return True\n",
        "\n",
        "        return False\n"
      ],
      "metadata": {
        "id": "uOyVmoH7kano"
      },
      "execution_count": 10,
      "outputs": []
    },
    {
      "cell_type": "code",
      "source": [
        "def nl_to_symbolic(nl_query):\n",
        "    # Simple mapping for demo\n",
        "    mapping = {\n",
        "        \"Is cat an animal?\": \"Animal(cat)\",\n",
        "        \"Is truck a vehicle?\": \"Vehicle(truck)\",\n",
        "        \"Is dog an animal?\": \"Animal(dog)\",\n",
        "        \"Is ship a vehicle?\": \"Vehicle(ship)\"\n",
        "    }\n",
        "    return mapping.get(nl_query, \"\")\n"
      ],
      "metadata": {
        "id": "Z7seaYyAkcnA"
      },
      "execution_count": 11,
      "outputs": []
    },
    {
      "cell_type": "code",
      "source": [
        "solver = BackwardChainer(kb)\n",
        "\n",
        "# Example queries\n",
        "nl_queries = [\n",
        "    \"Is cat an animal?\",\n",
        "    \"Is truck a vehicle?\",\n",
        "    \"Is frog an animal?\",\n",
        "    \"Is airplane a vehicle?\",\n",
        "    \"Is horse an animal?\",\n",
        "    \"Is automobile an animal?\"\n",
        "]\n",
        "\n",
        "for nl in nl_queries:\n",
        "    symbolic = nl_to_symbolic(nl)\n",
        "    if symbolic:\n",
        "        result = solver.solve(symbolic)\n",
        "        print(f\"Q: {nl} → {symbolic} → {'Yes' if result else 'No'}\")\n",
        "    else:\n",
        "        print(f\"Q: {nl} → (No mapping)\")\n"
      ],
      "metadata": {
        "colab": {
          "base_uri": "https://localhost:8080/",
          "height": 0
        },
        "id": "x5WKpB4lke3H",
        "outputId": "e1ece198-9405-4340-e4af-5ea7b6cf317d"
      },
      "execution_count": 12,
      "outputs": [
        {
          "output_type": "stream",
          "name": "stdout",
          "text": [
            "Q: Is cat an animal? → Animal(cat) → Yes\n",
            "Q: Is truck a vehicle? → Vehicle(truck) → Yes\n",
            "Q: Is frog an animal? → (No mapping)\n",
            "Q: Is airplane a vehicle? → (No mapping)\n",
            "Q: Is horse an animal? → (No mapping)\n",
            "Q: Is automobile an animal? → (No mapping)\n"
          ]
        }
      ]
    },
    {
      "cell_type": "code",
      "source": [],
      "metadata": {
        "id": "R0cq24sDkf6J"
      },
      "execution_count": null,
      "outputs": []
    }
  ]
}